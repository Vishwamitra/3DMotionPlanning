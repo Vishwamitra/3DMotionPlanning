{
 "cells": [
  {
   "cell_type": "code",
   "execution_count": 1,
   "metadata": {},
   "outputs": [
    {
     "data": {
      "text/html": [
       "<style>.container { width:100% !important; }</style>"
      ],
      "text/plain": [
       "<IPython.core.display.HTML object>"
      ]
     },
     "metadata": {},
     "output_type": "display_data"
    }
   ],
   "source": [
    "from IPython.core.display import display, HTML\n",
    "display(HTML(\"<style>.container { width:100% !important; }</style>\"))"
   ]
  },
  {
   "cell_type": "code",
   "execution_count": 2,
   "metadata": {},
   "outputs": [
    {
     "data": {
      "application/javascript": [
       "IPython.OutputArea.prototype._should_scroll = function(lines) {\n",
       "    return false;\n",
       "}"
      ],
      "text/plain": [
       "<IPython.core.display.Javascript object>"
      ]
     },
     "metadata": {},
     "output_type": "display_data"
    }
   ],
   "source": [
    "%%javascript\n",
    "IPython.OutputArea.prototype._should_scroll = function(lines) {\n",
    "    return false;\n",
    "}"
   ]
  },
  {
   "cell_type": "code",
   "execution_count": 3,
   "metadata": {},
   "outputs": [],
   "source": [
    "%load_ext autoreload\n",
    "%autoreload 2"
   ]
  },
  {
   "cell_type": "code",
   "execution_count": 4,
   "metadata": {},
   "outputs": [
    {
     "name": "stdout",
     "output_type": "stream",
     "text": [
      "Collecting networkx==2.1\n",
      "Collecting decorator>=4.1.0 (from networkx==2.1)\n",
      "  Using cached https://files.pythonhosted.org/packages/bc/bb/a24838832ba35baf52f32ab1a49b906b5f82fb7c76b2f6a7e35e140bac30/decorator-4.3.0-py2.py3-none-any.whl\n",
      "Installing collected packages: decorator, networkx\n",
      "Successfully installed decorator-4.3.0 networkx-2.1\n",
      "\u001b[33mYou are using pip version 9.0.3, however version 10.0.1 is available.\n",
      "You should consider upgrading via the 'pip install --upgrade pip' command.\u001b[0m\n"
     ]
    }
   ],
   "source": [
    "# OK this might look a little ugly but...\n",
    "# need to import the latest version of networkx\n",
    "# This occassionally fails, so if the next cell \n",
    "# doesn't show that you're using networkx 2.1\n",
    "# please \"restart and clear output\" from \"Kernel\" menu\n",
    "# above and try again.\n",
    "import sys\n",
    "!{sys.executable} -m pip install -I networkx==2.1\n",
    "import pkg_resources\n",
    "pkg_resources.require(\"networkx==2.1\")\n",
    "import networkx as nx"
   ]
  },
  {
   "cell_type": "code",
   "execution_count": 5,
   "metadata": {},
   "outputs": [
    {
     "data": {
      "text/plain": [
       "'2.1'"
      ]
     },
     "execution_count": 5,
     "metadata": {},
     "output_type": "execute_result"
    }
   ],
   "source": [
    "nx.__version__"
   ]
  },
  {
   "cell_type": "code",
   "execution_count": 6,
   "metadata": {},
   "outputs": [],
   "source": [
    "import argparse\n",
    "import time\n",
    "import msgpack\n",
    "from enum import Enum, auto\n",
    "\n",
    "import numpy as np\n",
    "import numpy.linalg as LA\n",
    "\n",
    "from voxmap import create_voxmap\n",
    "from planning_utils import a_star, heuristic, create_grid\n",
    "from planning_utils import create_grid_and_edges, a_star_graph\n",
    "from udacidrone import Drone\n",
    "from udacidrone.connection import MavlinkConnection\n",
    "from udacidrone.messaging import MsgID\n",
    "from udacidrone.frame_utils import global_to_local"
   ]
  },
  {
   "cell_type": "code",
   "execution_count": 7,
   "metadata": {},
   "outputs": [],
   "source": [
    "import matplotlib.pyplot as plt\n",
    "\n",
    "%matplotlib inline\n",
    "plt.rcParams['figure.figsize'] = 12, 12"
   ]
  },
  {
   "cell_type": "code",
   "execution_count": 8,
   "metadata": {},
   "outputs": [],
   "source": [
    "class States(Enum):\n",
    "    MANUAL = auto()\n",
    "    ARMING = auto()\n",
    "    TAKEOFF = auto()\n",
    "    WAYPOINT = auto()\n",
    "    LANDING = auto()\n",
    "    DISARMING = auto()\n",
    "    PLANNING = auto()"
   ]
  },
  {
   "cell_type": "code",
   "execution_count": 9,
   "metadata": {},
   "outputs": [],
   "source": [
    "class MotionPlanning(Drone):\n",
    "\n",
    "    def __init__(self, connection):\n",
    "        super().__init__(connection)\n",
    "\n",
    "        self.target_position = np.array([0.0, 0.0, 0.0])\n",
    "        self.waypoints = []\n",
    "        self.in_mission = True\n",
    "        self.check_state = {}\n",
    "\n",
    "        # initial state\n",
    "        self.flight_state = States.MANUAL\n",
    "        \n",
    "        self.GRD = None\n",
    "\n",
    "        # register all your callbacks here\n",
    "        self.register_callback(MsgID.LOCAL_POSITION, self.local_position_callback)\n",
    "        self.register_callback(MsgID.LOCAL_VELOCITY, self.velocity_callback)\n",
    "        self.register_callback(MsgID.STATE, self.state_callback)\n",
    "\n",
    "    def local_position_callback(self):\n",
    "        if self.flight_state == States.TAKEOFF:\n",
    "            if -1.0 * self.local_position[2] > 0.95 * self.target_position[2]:\n",
    "                self.waypoint_transition()\n",
    "        elif self.flight_state == States.WAYPOINT:\n",
    "            if np.linalg.norm(self.target_position[0:2] - self.local_position[0:2]) < 1.0:\n",
    "                if len(self.waypoints) > 0:\n",
    "                    self.waypoint_transition()\n",
    "                else:\n",
    "                    if np.linalg.norm(self.local_velocity[0:2]) < 1.0:\n",
    "                        self.landing_transition()\n",
    "\n",
    "    def velocity_callback(self):\n",
    "        if self.flight_state == States.LANDING:\n",
    "            if self.global_position[2] - self.global_home[2] < 0.1:\n",
    "                if abs(self.local_position[2]) < 0.01:\n",
    "                    self.disarming_transition()\n",
    "\n",
    "    def state_callback(self):\n",
    "        if self.in_mission:\n",
    "            if self.flight_state == States.MANUAL:\n",
    "                self.arming_transition()\n",
    "            elif self.flight_state == States.ARMING:\n",
    "                if self.armed:\n",
    "                    self.plan_path()\n",
    "            elif self.flight_state == States.PLANNING:\n",
    "                self.takeoff_transition()\n",
    "            elif self.flight_state == States.DISARMING:\n",
    "                if ~self.armed & ~self.guided:\n",
    "                    self.manual_transition()\n",
    "\n",
    "    def arming_transition(self):\n",
    "        self.flight_state = States.ARMING\n",
    "        print(\"arming transition\")\n",
    "        self.arm()\n",
    "        self.take_control()\n",
    "\n",
    "    def takeoff_transition(self):\n",
    "        self.flight_state = States.TAKEOFF\n",
    "        print(\"takeoff transition\")\n",
    "        self.takeoff(self.target_position[2])\n",
    "\n",
    "    def waypoint_transition(self):\n",
    "        self.flight_state = States.WAYPOINT\n",
    "        print(\"waypoint transition\")\n",
    "        self.target_position = self.waypoints.pop(0)\n",
    "        print('target position', self.target_position)\n",
    "        self.cmd_position(self.target_position[0], self.target_position[1], self.target_position[2], self.target_position[3])\n",
    "\n",
    "    def landing_transition(self):\n",
    "        self.flight_state = States.LANDING\n",
    "        print(\"landing transition\")\n",
    "        self.land()\n",
    "\n",
    "    def disarming_transition(self):\n",
    "        self.flight_state = States.DISARMING\n",
    "        print(\"disarm transition\")\n",
    "        self.disarm()\n",
    "        self.release_control()\n",
    "\n",
    "    def manual_transition(self):\n",
    "        self.flight_state = States.MANUAL\n",
    "        print(\"manual transition\")\n",
    "        self.stop()\n",
    "        self.in_mission = False\n",
    "\n",
    "    def send_waypoints(self):\n",
    "        print(\"Sending waypoints to simulator ...\")\n",
    "        data = msgpack.dumps(self.waypoints)\n",
    "        self.connection._master.write(data)\n",
    "\n",
    "    def plan_path(self):\n",
    "        self.flight_state = States.PLANNING\n",
    "        print(\"Searching for a path ...\")\n",
    "        TARGET_ALTITUDE = 5\n",
    "        SAFETY_DISTANCE = 5\n",
    "\n",
    "        self.target_position[2] = TARGET_ALTITUDE\n",
    "\n",
    "        # TODO: read lat0, lon0 from colliders into floating point values\n",
    "        \n",
    "        # TODO: set home position to (lon0, lat0, 0)\n",
    "\n",
    "        # TODO: retrieve current global position\n",
    " \n",
    "        # TODO: convert to current local position using global_to_local()\n",
    "        \n",
    "        print('global home {0}, position {1}, local position {2}'.format(self.global_home, self.global_position,\n",
    "                                                                         self.local_position))\n",
    "        # Read in obstacle map\n",
    "        data = np.loadtxt('colliders.csv', delimiter=',', dtype='Float64', skiprows=2)\n",
    "        \n",
    "        # Define a grid for a particular altitude and safety margin around obstacles\n",
    "        grid, north_offset, east_offset = create_grid(data, TARGET_ALTITUDE, SAFETY_DISTANCE)\n",
    "        print(\"North offset = {0}, east offset = {1}\".format(north_offset, east_offset))\n",
    "        # Define starting point on the grid (this is just grid center)\n",
    "        grid_start = (-north_offset, -east_offset)\n",
    "        # TODO: convert start position to current position rather than map center\n",
    "        \n",
    "        # Set goal as some arbitrary position on the grid\n",
    "        grid_goal = (-north_offset + 10, -east_offset + 10)\n",
    "        # TODO: adapt to set goal as latitude / longitude position and convert\n",
    "\n",
    "        # Run A* to find a path from start to goal\n",
    "        # TODO: add diagonal motions with a cost of sqrt(2) to your A* implementation\n",
    "        # or move to a different search space such as a graph (not done here)\n",
    "        print('Local Start and Goal: ', grid_start, grid_goal)\n",
    "        path, _ = a_star(grid, heuristic, grid_start, grid_goal)\n",
    "        # TODO: prune path to minimize number of waypoints\n",
    "        # TODO (if you're feeling ambitious): Try a different approach altogether!\n",
    "\n",
    "        # Convert path to waypoints\n",
    "        waypoints = [[p[0] + north_offset, p[1] + east_offset, TARGET_ALTITUDE, 0] for p in path]\n",
    "        # Set self.waypoints\n",
    "        self.waypoints = waypoints\n",
    "        # TODO: send waypoints to sim (this is just for visualization of waypoints)\n",
    "        self.send_waypoints()\n",
    "\n",
    "    def start(self):\n",
    "        self.start_log(\"Logs\", \"NavLog.txt\")\n",
    "\n",
    "        print(\"starting connection\")\n",
    "        self.connection.start()\n",
    "\n",
    "        # Only required if they do threaded\n",
    "        # while self.in_mission:\n",
    "        #    pass\n",
    "\n",
    "        self.stop_log()"
   ]
  },
  {
   "cell_type": "code",
   "execution_count": 10,
   "metadata": {},
   "outputs": [],
   "source": [
    "def main():\n",
    "    print(\"main\")\n",
    "    #parser = argparse.ArgumentParser()\n",
    "    #parser.add_argument('--port', type=int, default=5760, help='Port number')\n",
    "    #parser.add_argument('--host', type=str, default='127.0.0.1', help=\"host address, i.e. '127.0.0.1'\")\n",
    "    #args = parser.parse_args()\n",
    "\n",
    "    conn = MavlinkConnection('tcp:{0}:{1}'.format('127.0.0.1', 5760), timeout=60)\n",
    "    drone = MotionPlanning(conn)\n",
    "    time.sleep(1)\n",
    "\n",
    "    drone.start()"
   ]
  },
  {
   "cell_type": "code",
   "execution_count": 11,
   "metadata": {},
   "outputs": [],
   "source": [
    "from planning_utils import a_star"
   ]
  },
  {
   "cell_type": "code",
   "execution_count": 12,
   "metadata": {},
   "outputs": [],
   "source": [
    "def plot(grid, start_ne, goal_ne, goal_list=None, path=None):\n",
    "    plt.figure(figsize=(24, 12))\n",
    "    plt.imshow(grid, cmap='Greys', origin='lower')\n",
    "    \n",
    "    # For the purposes of the visual the east coordinate lay along\n",
    "    # the x-axis and the north coordinates long the y-axis.\n",
    "    plt.plot(start_ne[1], start_ne[0], 'gx', markersize=5, markeredgewidth=5)\n",
    "    plt.plot(goal_ne[1], goal_ne[0], 'rx', markersize=5, markeredgewidth=5)\n",
    "    \n",
    "    for g in goal_list:\n",
    "        plt.plot(g[1], g[0], 'bo', markeredgewidth=2)\n",
    "\n",
    "    if path is not None:\n",
    "        pp = np.array(path)\n",
    "        #pp = np.array(parr)\n",
    "        plt.plot(pp[:, 1], pp[:, 0], 'g')\n",
    "\n",
    "    plt.xlabel('EAST')\n",
    "    plt.ylabel('NORTH')\n",
    "    plt.show()    "
   ]
  },
  {
   "cell_type": "code",
   "execution_count": 13,
   "metadata": {},
   "outputs": [],
   "source": [
    "def plotgraph(grid, edges, start_ne, goal_ne, goal_list=None, path=None):\n",
    "    plt.figure(figsize=(24, 12))\n",
    "    plt.imshow(grid, origin='lower', cmap='Greys') \n",
    "\n",
    "    for e in edges:\n",
    "        p1 = e[0]\n",
    "        p2 = e[1]\n",
    "        plt.plot([p1[1], p2[1]], [p1[0], p2[0]], 'b-')\n",
    "\n",
    "    plt.plot(start_ne[1], start_ne[0], 'gx', markersize=5, markeredgewidth=5)\n",
    "    plt.plot(goal_ne[1], goal_ne[0], 'rx', markersize=5, markeredgewidth=5)\n",
    "    \n",
    "    for g in goal_list:\n",
    "        plt.plot(g[1], g[0], 'bo', markeredgewidth=2)\n",
    "\n",
    "    if path is not None:\n",
    "        pp = np.array(path)\n",
    "        #pp = np.array(parr)\n",
    "        plt.plot(pp[:, 1], pp[:, 0], 'g')    \n",
    "\n",
    "    plt.xlabel('EAST')\n",
    "    plt.ylabel('NORTH')\n",
    "    plt.show()"
   ]
  },
  {
   "cell_type": "code",
   "execution_count": 14,
   "metadata": {},
   "outputs": [],
   "source": [
    "def plotgraph2(grid, edges, start_ne, goal_ne, goal_list=None, path=None):\n",
    "    plt.figure(figsize=(24, 12))\n",
    "    plt.imshow(grid, origin='lower', cmap='Greys') \n",
    "\n",
    "    for e in edges:\n",
    "        p1 = e[0]\n",
    "        p2 = e[1]\n",
    "        plt.plot([p1[1], p2[1]], [p1[0], p2[0]], 'b-')\n",
    "\n",
    "    for g in goal_list:\n",
    "        plt.plot(g[1], g[0], 'bo', markeredgewidth=2)\n",
    "        \n",
    "    plt.plot(start_ne[1], start_ne[0], 'gx', markersize=5, markeredgewidth=5)\n",
    "    plt.plot(goal_ne[1], goal_ne[0], 'rx', markersize=5, markeredgewidth=5)\n",
    "    \n",
    "    real_cost = 0\n",
    "    for i in range(len(path)-1):\n",
    "        p1 = path[i]\n",
    "        p2 = path[i+1]\n",
    "        plt.plot([p1[1], p2[1]], [p1[0], p2[0]], 'r-')\n",
    "        real_cost += LA.norm(np.array(p1) - np.array(p2))\n",
    "    \n",
    "    print(\"real_cost:\", real_cost)\n",
    "    plt.xlabel('EAST', fontsize=20)\n",
    "    plt.ylabel('NORTH', fontsize=20)\n",
    "    plt.show()"
   ]
  },
  {
   "cell_type": "code",
   "execution_count": 15,
   "metadata": {},
   "outputs": [],
   "source": [
    "# Graph specific\n",
    "def convert_graph(edges):\n",
    "    G = nx.Graph()\n",
    "    for e in edges:\n",
    "        p1 = e[0]\n",
    "        p2 = e[1]\n",
    "        dist = LA.norm(np.array(p2) - np.array(p1))\n",
    "        G.add_edge(p1,p2,weight=dist)\n",
    "    return G"
   ]
  },
  {
   "cell_type": "code",
   "execution_count": 16,
   "metadata": {},
   "outputs": [],
   "source": [
    "# Graph specific\n",
    "def closest_point(graph, current_point):\n",
    "    \"\"\"\n",
    "    Compute the closest point in the `graph`\n",
    "    to the `current_point`.\n",
    "    \"\"\"\n",
    "    closest_point = None\n",
    "    dist = 100000\n",
    "    for p in graph.nodes:\n",
    "        d = LA.norm(np.array(p) - np.array(current_point))\n",
    "        if d < dist:\n",
    "            closest_point = p\n",
    "            dist = d\n",
    "    return closest_point"
   ]
  },
  {
   "cell_type": "code",
   "execution_count": 17,
   "metadata": {},
   "outputs": [],
   "source": [
    "def point(p):\n",
    "    return np.array([p[0], p[1], 1.]).reshape(1, -1)\n",
    "\n",
    "def collinearity_check(p1, p2, p3, epsilon=1e-6):   \n",
    "    m = np.concatenate((p1, p2, p3), 0)\n",
    "    det = np.linalg.det(m)\n",
    "    return abs(det) < epsilon\n",
    "\n",
    "def prune_path(path):\n",
    "    pruned_path = [p for p in path]\n",
    "    # TODO: prune the path!\n",
    "    i = 0\n",
    "    while i < len(pruned_path) - 2:\n",
    "        p1 = point(pruned_path[i])\n",
    "        p2 = point(pruned_path[i+1])\n",
    "        p3 = point(pruned_path[i+2])\n",
    "        if collinearity_check(p1,p2,p3):\n",
    "            pruned_path.remove(pruned_path[i+1])\n",
    "        else:\n",
    "            i += 1\n",
    "    return pruned_path"
   ]
  },
  {
   "cell_type": "code",
   "execution_count": 18,
   "metadata": {},
   "outputs": [],
   "source": [
    "class Grid():\n",
    "    def __init__(self, TARGET_ALTITUDE, SAFETY_DISTANCE):\n",
    "        # Read in obstacle map\n",
    "        data = np.loadtxt('colliders.csv', delimiter=',', dtype='Float64', skiprows=2)\n",
    "        grid, edges, north_offset, east_offset = create_grid_and_edges(data, TARGET_ALTITUDE, SAFETY_DISTANCE)\n",
    "        print(\"grid# = {0}, edge# = {1}\".format(len(grid), len(edges)))\n",
    "        print(\"North offset = {0}, east offset = {1}\".format(north_offset, east_offset))\n",
    "        # Define starting point on the grid (this is just grid center)\n",
    "        with open('colliders.csv') as f:\n",
    "            first_line = f.readline().strip()\n",
    "        latlon = first_line.split(',')\n",
    "        self.lon0 = float(latlon[0].strip().split(' ')[1])\n",
    "        self.lat0 = float(latlon[1].strip().split(' ')[1])      \n",
    "        #grid_start = (-north_offset, -east_offset)\n",
    "        # TODO: convert start position to current position rather than map center\n",
    "        #self.set_home_position(lat0, lon0, 0)\n",
    "\n",
    "        self.grid = grid\n",
    "        self.edges = edges\n",
    "        self.north_offset = north_offset\n",
    "        self.east_offset = east_offset"
   ]
  },
  {
   "cell_type": "code",
   "execution_count": 19,
   "metadata": {},
   "outputs": [
    {
     "name": "stdout",
     "output_type": "stream",
     "text": [
      "main\n",
      "Logs/TLog.txt\n",
      "Logs/NavLog.txt\n",
      "starting connection\n",
      "arming transition\n",
      "Searching for a path ...\n",
      "global home [-122.3974533   37.7924804    0.       ], position [-122.3974509   37.7924818    0.184    ], local position [ 0.12449047  0.23997548 -0.18084516]\n",
      "grid# = 921, edge# = 1419\n",
      "North offset = -316, east offset = -445\n",
      "lp: [ 0.15669141  0.21030786 -0.184     ]\n",
      "gsf:  316.15669141244143 445.21030785527546\n",
      "gs:  (316, 445)\n",
      "change [0.10842096 0.07169301 0.41204401]\n",
      "goal:  (-122.39734247903914, 37.79255349301069, 4.304440124329718)\n",
      "lg:  [ 8.17253654  9.70499969 -4.30444012]\n",
      "ggf:  324.1725365445018 454.7049996915739\n",
      "455 920\n",
      "gg:  (324, 455) 0.0\n",
      "gg:  (324, 455)\n",
      "Local Start and Goal:  (316, 445) (324, 455)\n"
     ]
    },
    {
     "data": {
      "image/png": "[encoded data removed]",
      "text/plain": [
       "<matplotlib.figure.Figure at 0x7fd50f557b70>"
      ]
     },
     "metadata": {},
     "output_type": "display_data"
    },
    {
     "name": "stdout",
     "output_type": "stream",
     "text": [
      "start_ne_g (315.76114, 445.76846)\n",
      "goal_ne_g (323.76114, 445.76846)\n",
      "takeoff transition\n"
     ]
    },
    {
     "name": "stderr",
     "output_type": "stream",
     "text": [
      "Traceback (most recent call last):\n",
      "  File \"/dd/env/fcnd/lib/python3.6/site-packages/udacidrone/drone.py\", line 278, in notify_callbacks\n",
      "    fn()\n",
      "  File \"<ipython-input-9-c75408979e95>\", line 45, in state_callback\n",
      "    self.plan_path()\n",
      "  File \"<ipython-input-19-db6552df1743>\", line 124, in plan_path\n",
      "    path, cost = a_star_graph(graph, heuristic, grid_start, grid_goal)\n",
      "  File \"/dd/D/Udacity/FCDN/Term1/10_MotionPlanning/FCND-Motion-Planning/planning_utils.py\", line 639, in a_star_graph\n",
      "    for next_node in graph[current_node]:\n",
      "  File \"/dd/env/fcnd/lib/python3.6/site-packages/networkx/classes/graph.py\", line 440, in __getitem__\n",
      "    return self.adj[n]\n",
      "  File \"/dd/env/fcnd/lib/python3.6/site-packages/networkx/classes/coreviews.py\", line 82, in __getitem__\n",
      "    return AtlasView(self._atlas[name])\n",
      "KeyError: (316, 445)\n"
     ]
    },
    {
     "name": "stdout",
     "output_type": "stream",
     "text": [
      "waypoint transition\n"
     ]
    },
    {
     "name": "stderr",
     "output_type": "stream",
     "text": [
      "Traceback (most recent call last):\n",
      "  File \"/dd/env/fcnd/lib/python3.6/site-packages/udacidrone/drone.py\", line 278, in notify_callbacks\n",
      "    fn()\n",
      "  File \"<ipython-input-9-c75408979e95>\", line 24, in local_position_callback\n",
      "    self.waypoint_transition()\n",
      "  File \"<ipython-input-9-c75408979e95>\", line 66, in waypoint_transition\n",
      "    self.target_position = self.waypoints.pop(0)\n",
      "IndexError: pop from empty list\n"
     ]
    },
    {
     "name": "stdout",
     "output_type": "stream",
     "text": [
      "landing transition\n",
      "disarm transition\n",
      "manual transition\n",
      "Closing connection ...\n"
     ]
    }
   ],
   "source": [
    "def plan_path(self):\n",
    "    self.flight_state = States.PLANNING\n",
    "    print(\"Searching for a path ...\")\n",
    "    TARGET_ALTITUDE = 5\n",
    "    SAFETY_DISTANCE = 5\n",
    "\n",
    "    self.target_position[2] = TARGET_ALTITUDE\n",
    "\n",
    "    # TODO: read lat0, lon0 from colliders into floating point values\n",
    "\n",
    "    # TODO: set home position to (lon0, lat0, 0)\n",
    "\n",
    "    # TODO: retrieve current global position\n",
    "\n",
    "    # TODO: convert to current local position using global_to_local()\n",
    "\n",
    "    print('global home {0}, position {1}, local position {2}'.format(self.global_home, self.global_position,\n",
    "                                                                     self.local_position))\n",
    "    # Read in obstacle map\n",
    "    #data = np.loadtxt('colliders.csv', delimiter=',', dtype='Float64', skiprows=2)\n",
    "    #voxmap = create_voxmap(data, 1)\n",
    "    # Define a grid for a particular altitude and safety margin around obstacles\n",
    "    #grid, north_offset, east_offset = create_grid(data, TARGET_ALTITUDE, SAFETY_DISTANCE)\n",
    "    #grid, edges, north_offset, east_offset = create_grid_and_edges(data, TARGET_ALTITUDE, SAFETY_DISTANCE)\n",
    "    #print(\"grid# = {0}, edge# = {1}\".format(len(grid), len(edges)))\n",
    "    #print(\"North offset = {0}, east offset = {1}\".format(north_offset, east_offset))\n",
    "\n",
    "    # Define starting point on the grid (this is just grid center)\n",
    "    #with open('colliders.csv') as f:\n",
    "    #    first_line = f.readline().strip()\n",
    "    #latlon = first_line.split(',')\n",
    "    #lon0 = float(latlon[0].strip().split(' ')[1])\n",
    "    #lat0 = float(latlon[1].strip().split(' ')[1])      \n",
    "    #grid_start = (-north_offset, -east_offset)\n",
    "    # TODO: convert start position to current position rather than map center\n",
    "    \n",
    "    if self.GRD is None:\n",
    "        self.GRD = Grid(TARGET_ALTITUDE, SAFETY_DISTANCE)\n",
    "    grid = self.GRD.grid\n",
    "    edges = self.GRD.edges\n",
    "    north_offset = self.GRD.north_offset\n",
    "    east_offset = self.GRD.east_offset\n",
    "    lon0 = self.GRD.lon0\n",
    "    lat0 = self.GRD.lat0\n",
    "    \n",
    "    self.set_home_position(lat0, lon0, 0)\n",
    "#     print((lon0, lat0), \" vs \", (-north_offset, -east_offset))    \n",
    "#     print(\"lla: \",self._latitude, self._longitude, self._altitude)\n",
    "#     print(\"gh: \",self.global_home)\n",
    "#     print(\"gp: \",self.global_position)\n",
    "    local_pos = global_to_local(self.global_position, global_home=self.global_home)\n",
    "    print(\"lp:\", local_pos)\n",
    "    north, east, att = local_pos\n",
    "    print(\"gsf: \", (north - north_offset), (east - east_offset))\n",
    "    #3d\n",
    "    #grid_start = (int(np.rint(north - north_offset)), int(np.rint(east - east_offset)), int(np.rint(self.global_position[2])))\n",
    "    #2d\n",
    "    grid_start = (int(np.rint(north - north_offset)), int(np.rint(east - east_offset)))\n",
    "    print(\"gs: \",grid_start)\n",
    "    \n",
    "\n",
    "    \n",
    "    # Set goal as some arbitrary position on the grid\n",
    "    #grid_goal = (-north_offset + 10, -east_offset + 10)\n",
    "    # TODO: adapt to set goal as latitude / longitude position and convert\n",
    "    # grid_goal = (grid_start[0] + 10, grid_start[1] + 10)\n",
    "    #goal = (-122.400600, 37.793401, 0)\n",
    "    #goal = (lat0 + 0.0001, lon0 + 0.00001, 0)\n",
    "    dist_idx = 1000.0\n",
    "    goal_obs = True\n",
    "    goal_try = 0\n",
    "    goal_list = []\n",
    "    grid_shape = grid.shape\n",
    "    while goal_obs and goal_try < 100:\n",
    "        goal_try += 1\n",
    "        change = np.random.rand(3)\n",
    "        change -= 0.5\n",
    "        print(\"change\", change)\n",
    "        goal = (self.global_position[0] + change[0] / dist_idx,\n",
    "                self.global_position[1] + change[1] / (dist_idx),\n",
    "                self.global_position[2] + change[2] * 10.0)\n",
    "        print(\"goal: \", goal)\n",
    "        local_goal = global_to_local(goal, global_home=self.global_home)\n",
    "        print(\"lg: \", local_goal)\n",
    "        ng, eg, ag = local_goal\n",
    "        print(\"ggf: \", (ng - north_offset), (eg - east_offset))\n",
    "        #3d\n",
    "        #grid_goal = (int(np.rint(ng - north_offset)), int(np.rint(eg - east_offset)), int(np.rint(goal[2])))\n",
    "        #2d\n",
    "        grid_goal = (int(np.rint(ng - north_offset)), int(np.rint(eg - east_offset)))\n",
    "        print(grid_goal[1], grid_shape[1] - 1)\n",
    "        if grid_goal[0] >= grid_shape[0]:\n",
    "            grid_goal = (grid_shape[0] - 1, grid_goal[1])\n",
    "        elif grid_goal[0] < 0:\n",
    "            grid_goal = (0, grid_goal[1])            \n",
    "        if grid_goal[1] >= grid_shape[1]:\n",
    "            grid_goal = (grid_goal[0], grid_shape[1] - 1)\n",
    "        elif grid_goal[1] < 0:\n",
    "            grid_goal = (grid_goal[0], 0)            \n",
    "                    \n",
    "        goal_obs = grid[grid_goal[0], grid_goal[1]]\n",
    "        print(\"gg: \",grid_goal, goal_obs)\n",
    "        if goal_obs:\n",
    "            goal_list.append(grid_goal)\n",
    "    \n",
    "    #grid_goal = (grid_start[0] + 10, grid_start[1] + 10,0)    \n",
    "    print(\"gg: \",grid_goal)\n",
    "    # Run A* to find a path from start to goal\n",
    "    # TODO: add diagonal motions with a cost of sqrt(2) to your A* implementation\n",
    "    # or move to a different search space such as a graph (not done here)\n",
    "    print('Local Start and Goal: ', grid_start, grid_goal)\n",
    "    plotgraph(grid, edges, grid_start, grid_goal, goal_list=goal_list)\n",
    "    #3d\n",
    "    #path, _ = a_star(voxmap, heuristic, grid_start, grid_goal)\n",
    "    #2d\n",
    "    \n",
    "    graph = convert_graph(edges)\n",
    "    start_ne_g = closest_point(graph, grid_start)\n",
    "    goal_ne_g = closest_point(graph, grid_goal)\n",
    "    print(\"start_ne_g\", start_ne_g)\n",
    "    print(\"goal_ne_g\", goal_ne_g)\n",
    "    \n",
    "    \n",
    "    path, cost = a_star_graph(graph, heuristic, grid_start, grid_goal)\n",
    "    print(len(path), cost)\n",
    "    #plot(grid, grid_start, grid_goal, goal_list=[], path=path)\n",
    "    plotgraph2(grid, edges, grid_start, grid_goal, goal_list=goal_list, path=path)\n",
    "    plotgraph(grid, edges, grid_start, grid_goal, goal_list=goal_list, path=path)\n",
    "    \n",
    "    pruned_path = prune_path(path)\n",
    "    print(len(pruned_path))\n",
    "    #plot(grid, grid_start, grid_goal, goal_list=[], path=pruned_path)\n",
    "    plotgraph2(grid, edges, grid_start, grid_goal, goal_list=goal_list, path=pruned_path)\n",
    "    plotgraph(grid, edges, grid_start, grid_goal, goal_list=goal_list, path=pruned_path)\n",
    "        \n",
    "    print(\"A* path:\")\n",
    "    for p in path:\n",
    "        print(p)\n",
    "        \n",
    "    print(\"Pruned_path:\")\n",
    "    for p in pruned_path:\n",
    "        print(p)\n",
    "    #    print(p, p.cost, p.delta, (p.delta[0] + north_offset, p.delta[1] + east_offset, TARGET_ALTITUDE, 0))\n",
    "    # TODO: prune path to minimize number of waypoints\n",
    "    # TODO (if you're feeling ambitious): Try a different approach altogether!\n",
    "\n",
    "    # Convert path to waypoints\n",
    "    #waypoints = [[p[0] + north_offset, p[1] + east_offset, TARGET_ALTITUDE, 0] for p in path]\n",
    "    waypoints = [[p[0] + north_offset, p[1] + east_offset, TARGET_ALTITUDE, 0] for p in pruned_path]\n",
    "    \n",
    "    # Set self.waypoints\n",
    "    self.waypoints = waypoints\n",
    "    # TODO: send waypoints to sim (this is just for visualization of waypoints)\n",
    "    self.send_waypoints()\n",
    "MotionPlanning.plan_path = plan_path\n",
    "main()"
   ]
  },
  {
   "cell_type": "code",
   "execution_count": null,
   "metadata": {},
   "outputs": [
    {
     "name": "stdout",
     "output_type": "stream",
     "text": [
      "main\n",
      "Logs/TLog.txt\n",
      "Logs/NavLog.txt\n",
      "starting connection\n",
      "arming transition\n",
      "Searching for a path ...\n",
      "global home [-122.3974533   37.7924804    0.       ], position [-1.22397449e+02  3.77924838e+01  7.10000000e-02], local position [ 0.37621963  0.35888401 -0.06900144]\n"
     ]
    }
   ],
   "source": [
    "main()"
   ]
  },
  {
   "cell_type": "code",
   "execution_count": null,
   "metadata": {},
   "outputs": [],
   "source": [
    "data = np.loadtxt('colliders.csv', delimiter=',', dtype='Float64', skiprows=2)"
   ]
  },
  {
   "cell_type": "code",
   "execution_count": null,
   "metadata": {},
   "outputs": [],
   "source": [
    "data = np.loadtxt('colliders.csv', delimiter=',', dtype='Float64', skiprows=0)"
   ]
  },
  {
   "cell_type": "code",
   "execution_count": null,
   "metadata": {},
   "outputs": [],
   "source": [
    "#first_line = \"\"\n",
    "with open('colliders.csv') as f:\n",
    "    first_line = f.readline().strip()\n",
    "print(first_line)    \n",
    "latlon = first_line.split(',')\n",
    "gs = float(latlon[0].strip().split(' ')[1])\n",
    "ge = float(latlon[1].strip().split(' ')[1])\n",
    "print(gs, ge)"
   ]
  },
  {
   "cell_type": "code",
   "execution_count": null,
   "metadata": {},
   "outputs": [],
   "source": []
  },
  {
   "cell_type": "code",
   "execution_count": null,
   "metadata": {},
   "outputs": [],
   "source": [
    "print(first_line.strip())"
   ]
  },
  {
   "cell_type": "code",
   "execution_count": null,
   "metadata": {},
   "outputs": [],
   "source": []
  }
 ],
 "metadata": {
  "kernelspec": {
   "display_name": "Python 3",
   "language": "python",
   "name": "python3"
  },
  "language_info": {
   "codemirror_mode": {
    "name": "ipython",
    "version": 3
   },
   "file_extension": ".py",
   "mimetype": "text/x-python",
   "name": "python",
   "nbconvert_exporter": "python",
   "pygments_lexer": "ipython3",
   "version": "3.6.3"
  }
 },
 "nbformat": 4,
 "nbformat_minor": 2
}
